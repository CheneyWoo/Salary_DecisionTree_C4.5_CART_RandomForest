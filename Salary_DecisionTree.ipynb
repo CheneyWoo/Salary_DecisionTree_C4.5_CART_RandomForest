{
 "cells": [
  {
   "cell_type": "code",
   "execution_count": 134,
   "metadata": {},
   "outputs": [
    {
     "name": "stdout",
     "output_type": "stream",
     "text": [
      "[['A1' 'A3' 'B7' 'B6' 'A2' 4000]\n",
      " ['B1' 'A3' 'B7' 'D6' 'B2' 3000]\n",
      " ['B1' 'A3' 'B7' 'A6' 'A2' 6000]\n",
      " ...\n",
      " ['B1' 'B3' 'D7' 'A6' 'A2' 10000]\n",
      " ['C1' 'C3' 'A7' 'C6' 'A2' 3000]\n",
      " ['D1' 'B3' 'B7' 'A6' 'A2' 17000]]\n"
     ]
    }
   ],
   "source": [
    "#数据装载\n",
    "import csv\n",
    "import numpy as np\n",
    "import pandas as pd\n",
    "\n",
    "df = pd.read_csv('train_data.csv')\n",
    "data = np.array(df)\n",
    "print data"
   ]
  },
  {
   "cell_type": "code",
   "execution_count": 135,
   "metadata": {},
   "outputs": [
    {
     "name": "stdout",
     "output_type": "stream",
     "text": [
      "[['A1' 'A3' 'B7' 'B6' 'A2' 3000]\n",
      " ['B1' 'A3' 'B7' 'D6' 'B2' 3000]\n",
      " ['B1' 'A3' 'B7' 'A6' 'A2' 5000]\n",
      " ...\n",
      " ['B1' 'B3' 'D7' 'A6' 'A2' 10000]\n",
      " ['C1' 'C3' 'A7' 'C6' 'A2' 3000]\n",
      " ['D1' 'B3' 'B7' 'A6' 'A2' 10000]]\n"
     ]
    }
   ],
   "source": [
    "#预测值分层\n",
    "for i in range(len(data)):\n",
    "    if 1000<=data[i][5]<3000:\n",
    "        data[i][5] = 1000\n",
    "    if 3000<=data[i][5]<5000:\n",
    "        data[i][5] = 3000\n",
    "    if 5000<=data[i][5]<8000:\n",
    "        data[i][5] = 5000\n",
    "    if 8000<=data[i][5]<10000:\n",
    "        data[i][5] = 8000\n",
    "    if 10000<=data[i][5]<40000:\n",
    "        data[i][5] = 10000\n",
    "    if data[i][5]>=40000:\n",
    "        data[i][5] = 40000\n",
    "\n",
    "print data"
   ]
  },
  {
   "cell_type": "code",
   "execution_count": 136,
   "metadata": {},
   "outputs": [],
   "source": [
    "#划分数据集\n",
    "train_data = data[:35001]\n",
    "test_data = data[35001:]"
   ]
  },
  {
   "cell_type": "code",
   "execution_count": 137,
   "metadata": {},
   "outputs": [
    {
     "name": "stdout",
     "output_type": "stream",
     "text": [
      "[['A1' 'A3' 'B7' 'B6' 'A2' 3000]\n",
      " ['B1' 'A3' 'B7' 'D6' 'B2' 3000]\n",
      " ['B1' 'A3' 'B7' 'A6' 'A2' 5000]\n",
      " ...\n",
      " ['D1' 'B3' 'A7' 'B6' 'A2' 5000]\n",
      " ['A1' 'C3' 'A7' 'A6' 'A2' 10000]\n",
      " ['A1' 'A3' 'B7' 'B6' 'A2' 5000]]\n",
      "['experience', 'education', 'major', 'location', 'company_type']\n"
     ]
    }
   ],
   "source": [
    "#生成训练数据\n",
    "def createDataSet():\n",
    "    dataSet = train_data\n",
    "    atrributes = ['experience','education','major','location','company_type']\n",
    "    return dataSet, atrributes\n",
    "\n",
    "dataSet, attributes = createDataSet()\n",
    "print dataSet\n",
    "print attributes"
   ]
  },
  {
   "cell_type": "markdown",
   "metadata": {},
   "source": [
    "# C4.5"
   ]
  },
  {
   "cell_type": "code",
   "execution_count": 138,
   "metadata": {},
   "outputs": [],
   "source": [
    "#计算熵值\n",
    "import math\n",
    "def calcEnt(dataSet):\n",
    "    labels = set([dataVec[-1] for dataVec in dataSet])\n",
    "    labelSet = {}\n",
    "    for label in labels:\n",
    "        labelSet[label] = 0\n",
    "    #样本总个数\n",
    "    totalNum = len(dataSet)\n",
    "    #类别集合\n",
    "    #计算每个类别的样本个数\n",
    "    for dataVec in dataSet:\n",
    "        label = dataVec[-1]\n",
    "        if label not in labelSet.keys():\n",
    "            labelSet[label] = 0\n",
    "        labelSet[label] += 1\n",
    "    Ent = 0\n",
    "    #计算熵值\n",
    "    for key in labelSet:\n",
    "        pi = float(labelSet[key])/totalNum\n",
    "        Ent -= pi*math.log(pi,2)\n",
    "    #print labelSet\n",
    "    return Ent"
   ]
  },
  {
   "cell_type": "code",
   "execution_count": 139,
   "metadata": {},
   "outputs": [],
   "source": [
    "#按给定特征划分数据集:返回第featNum个特征其值为value的样本集合，且返回的样本数据中已经去除该特征\n",
    "def splitDataSet(dataSet, featNum, featvalue):\n",
    "    retDataSet = []\n",
    "    for dataVec in dataSet:\n",
    "        if dataVec[featNum] == featvalue:\n",
    "            splitData = dataVec[:featNum]\n",
    "            splitData = np.append(splitData,dataVec[featNum+1:])\n",
    "            retDataSet.append(splitData)\n",
    "    return np.array(retDataSet)"
   ]
  },
  {
   "cell_type": "code",
   "execution_count": 140,
   "metadata": {},
   "outputs": [],
   "source": [
    "#选择最好的特征划分数据集\n",
    "def chooseBestFeatToSplit(dataSet, labelSet):\n",
    "    featNum = len(dataSet[0]) - 1\n",
    "    maxInfoGain = 0\n",
    "    bestFeat = -1\n",
    "    #计算样本熵值，对应公式中：H(X)\n",
    "    baseEnt = calcEnt(dataSet)\n",
    "    #以每一个特征进行分类，找出使信息增益最大的特征\n",
    "    for i in range(featNum):\n",
    "        featList = [dataVec[i] for dataVec in dataSet]\n",
    "        featList = set(featList)\n",
    "        #print labelSet[i],\"的所有属性值\",featList\n",
    "        newEnt = 0\n",
    "        #计算以第i个特征进行分类后的熵值，对应公式中：H(X|Y)\n",
    "        for featValue in featList:\n",
    "            subDataSet = splitDataSet(dataSet, i, featValue)\n",
    "            prob = len(subDataSet)/float(len(dataSet))\n",
    "            newEnt += prob*calcEnt(subDataSet)\n",
    "        #ID3算法：计算信息增益,对应公式中：g(X,Y)=H(X)-H(X|Y)\n",
    "        #infoGain = baseEnt - newEnt\n",
    "        #C4.5算法：计算信息增益比\n",
    "        selfClass = np.array([dataVec[i] for dataVec in dataSet]).reshape(-1,1)\n",
    "        if calcEnt(selfClass) == 0:\n",
    "            return i\n",
    "        infoGain = (baseEnt - newEnt)/calcEnt(selfClass)\n",
    "        #print labelSet[i],\"的信息增益率\", infoGain\n",
    "        #找出最大的熵值以及其对应的特征\n",
    "        if infoGain > maxInfoGain:\n",
    "            maxInfoGain = infoGain\n",
    "            bestFeat = i\n",
    "    return bestFeat"
   ]
  },
  {
   "cell_type": "code",
   "execution_count": 141,
   "metadata": {},
   "outputs": [],
   "source": [
    "#如果决策树递归生成完毕，且叶子节点中样本不是属于同一类，则以少数服从多数原则确定该叶子节点类别\n",
    "def majorityCnt(labelList):\n",
    "    labels = set(labelList)\n",
    "    labelSet = {}\n",
    "    for label in labels:\n",
    "        labelSet[label] = 0\n",
    "    #统计每个类别的样本个数\n",
    "    for label in labelList:\n",
    "        if label not in labelSet.keys():\n",
    "            labelSet[label] = 0\n",
    "        labelSet[label] += 1\n",
    "    #iteritems：返回列表迭代器\n",
    "    #operator.itemgeter(1):获取对象第一个域的值\n",
    "    #True：降序\n",
    "    sortedLabelSet = sorted(labelSet.items(), key=operator.itemgetter(1), reverse=True)\n",
    "    return sortedLabelSet[0][0]"
   ]
  },
  {
   "cell_type": "code",
   "execution_count": 142,
   "metadata": {},
   "outputs": [],
   "source": [
    "import operator\n",
    "\n",
    "#创建决策树\n",
    "def createDecideTree(dataSet, featName):\n",
    "    #数据集的分类类别\n",
    "    classList = [dataVec[-1] for dataVec in dataSet]\n",
    "    #所有样本属于同一类时，停止划分，返回该类别\n",
    "    if len(classList) == classList.count(classList[0]):\n",
    "        return classList[0]\n",
    "    #所有特征已经遍历完，停止划分，返回样本数最多的类别\n",
    "    if len(dataSet[0]) == 1:\n",
    "        return majorityCnt(classList)\n",
    "    #选择最好的特征进行划分\n",
    "    bestFeat = chooseBestFeatToSplit(dataSet, featName)\n",
    "    bestFeatName = featName[bestFeat]\n",
    "    #print \"当前最佳属性是\", bestFeatName\n",
    "    del featName[bestFeat]\n",
    "    #以字典形式表示树\n",
    "    DTree = {bestFeatName:{}}\n",
    "    #根据选择的特征，遍历该特征的所有属性值，在每个划分子集上递归调用createDecideTree\n",
    "    featValue = [dataVec[bestFeat] for dataVec in dataSet]\n",
    "    featValue = set(featValue)\n",
    "    #print \"剩余候选属性是\", featName\n",
    "    for value in featValue:\n",
    "        subFeatName = featName[:]\n",
    "        DTree[bestFeatName][value] = createDecideTree(splitDataSet(dataSet,bestFeat,value), subFeatName)\n",
    "    return DTree"
   ]
  },
  {
   "cell_type": "code",
   "execution_count": 190,
   "metadata": {},
   "outputs": [
    {
     "name": "stdout",
     "output_type": "stream",
     "text": [
      "{'experience': {'A1': {'location': {'D6': {'company_type': {'C2': 3000, 'A2': {'education': {'C3': {'major': {'F7': 3000, 'B7': 3000, 'A7': 3000, 'D7': 3000, 'E7': 1000, 'C7': 3000}}, 'A3': {'major': {'F7': 3000, 'B7': 3000, 'A7': 3000, 'D7': 3000, 'E7': 3000, 'C7': 3000}}, 'E3': {'major': {'D7': 8000, 'B7': 8000}}, 'B3': {'major': {'F7': 3000, 'B7': 3000, 'A7': 3000, 'D7': 3000, 'E7': 3000, 'C7': 3000}}}}, 'B2': {'major': {'E7': {'education': {'C3': 3000, 'B3': 3000}}, 'B7': {'education': {'C3': 3000, 'A3': 8000, 'B3': 10000}}, 'C7': {'education': {'C3': 8000, 'A3': 1000, 'B3': 3000}}, 'A7': {'education': {'C3': 3000, 'A3': 1000, 'B3': 3000}}, 'F7': 5000}}}}, 'B6': {'education': {'C3': {'company_type': {'C2': 1000, 'A2': {'major': {'F7': 3000, 'B7': 3000, 'A7': 3000, 'D7': 3000, 'E7': 3000, 'C7': 3000}}, 'D2': 3000, 'B2': {'major': {'D7': 1000, 'B7': 3000, 'C7': 1000, 'A7': 3000}}}}, 'A3': {'company_type': {'A2': {'major': {'F7': 3000, 'B7': 3000, 'A7': 3000, 'D7': 3000, 'E7': 3000, 'C7': 3000}}, 'D2': 5000, 'B2': {'major': {'D7': 3000, 'E7': 3000, 'B7': 3000, 'C7': 3000, 'A7': 3000}}}}, 'D3': 10000, 'E3': {'major': {'F7': {'company_type': {'A2': 3000}}, 'B7': {'company_type': {'A2': 8000}}, 'A7': {'company_type': {'A2': 5000}}, 'D7': {'company_type': {'C2': 3000, 'A2': 5000}}, 'E7': {'company_type': {'A2': 5000, 'B2': 5000}}, 'C7': {'company_type': {'A2': 5000}}}}, 'B3': {'major': {'F7': {'company_type': {'A2': 3000, 'B2': 3000}}, 'B7': {'company_type': {'C2': 1000, 'A2': 3000, 'B2': 3000}}, 'A7': {'company_type': {'C2': 3000, 'A2': 3000, 'B2': 3000}}, 'D7': {'company_type': {'A2': 3000, 'D2': 3000}}, 'E7': {'company_type': {'A2': 3000, 'B2': 3000}}, 'C7': {'company_type': {'A2': 3000, 'B2': 5000}}}}}}, 'E6': {'company_type': {'C2': 3000, 'A2': {'major': {'F7': {'education': {'C3': 3000, 'A3': 3000, 'D3': 10000, 'E3': 10000, 'B3': 3000}}, 'B7': {'education': {'C3': 3000, 'A3': 3000, 'B3': 3000}}, 'A7': {'education': {'C3': 3000, 'A3': 3000, 'B3': 3000}}, 'D7': {'education': {'C3': 3000, 'A3': 5000, 'E3': 5000, 'B3': 3000}}, 'E7': {'education': {'C3': 1000, 'A3': 1000, 'B3': 1000}}, 'C7': {'education': {'C3': 3000, 'A3': 3000, 'B3': 1000}}}}, 'B2': {'education': {'A3': {'major': {'C7': 5000, 'A7': 3000}}, 'B3': {'major': {'B7': 10000, 'C7': 3000, 'A7': 10000}}}}}}, 'C6': {'education': {'C3': {'company_type': {'C2': 8000, 'A2': {'major': {'F7': 3000, 'B7': 3000, 'A7': 3000, 'D7': 3000, 'E7': 3000, 'C7': 3000}}, 'B2': {'major': {'A7': 5000}}}}, 'A3': {'company_type': {'C2': {'major': {'D7': 1000, 'B7': 3000, 'A7': 5000}}, 'A2': {'major': {'F7': 3000, 'B7': 3000, 'A7': 3000, 'D7': 3000, 'E7': 3000, 'C7': 3000}}, 'B2': {'major': {'D7': 1000, 'E7': 3000, 'B7': 3000, 'C7': 3000, 'A7': 3000}}}}, 'D3': 10000, 'E3': {'company_type': {'A2': {'major': {'F7': 10000, 'B7': 5000, 'A7': 5000, 'D7': 3000, 'E7': 8000, 'C7': 5000}}, 'B2': {'major': {'A7': 1000, 'F7': 3000}}}}, 'B3': {'company_type': {'C2': {'major': {'A7': 1000}}, 'A2': {'major': {'F7': 3000, 'B7': 3000, 'A7': 3000, 'D7': 3000, 'E7': 3000, 'C7': 3000}}, 'B2': {'major': {'B7': 3000, 'C7': 3000, 'A7': 3000, 'F7': 1000}}}}}}, 'A6': {'education': {'C3': {'company_type': {'A2': {'major': {'F7': 3000, 'B7': 3000, 'A7': 3000, 'D7': 3000, 'E7': 3000, 'C7': 3000}}, 'D2': 3000, 'B2': {'major': {'D7': 1000, 'B7': 3000, 'C7': 1000, 'A7': 3000}}}}, 'A3': {'company_type': {'C2': {'major': {'F7': 5000, 'B7': 3000, 'A7': 1000, 'D7': 3000, 'E7': 5000, 'C7': 5000}}, 'A2': {'major': {'F7': 3000, 'B7': 3000, 'A7': 3000, 'D7': 3000, 'E7': 3000, 'C7': 3000}}, 'D2': 1000, 'B2': {'major': {'D7': 1000, 'E7': 3000, 'B7': 3000, 'C7': 3000, 'A7': 3000}}}}, 'D3': {'company_type': {'C2': 8000, 'A2': {'major': {'D7': 10000, 'B7': 10000, 'F7': 10000}}}}, 'E3': {'company_type': {'C2': {'major': {'B7': 8000, 'A7': 5000}}, 'A2': {'major': {'F7': 1000, 'B7': 10000, 'A7': 5000, 'D7': 5000, 'E7': 1000, 'C7': 5000}}, 'B2': {'major': {'B7': 5000, 'C7': 5000, 'A7': 5000}}}}, 'B3': {'major': {'F7': {'company_type': {'A2': 3000}}, 'B7': {'company_type': {'C2': 5000, 'A2': 3000, 'B2': 5000}}, 'A7': {'company_type': {'C2': 5000, 'A2': 3000, 'B2': 3000}}, 'D7': {'company_type': {'A2': 5000, 'D2': 3000}}, 'E7': {'company_type': {'C2': 3000, 'A2': 3000, 'B2': 3000}}, 'C7': {'company_type': {'C2': 1000, 'A2': 5000, 'B2': 3000}}}}}}}}, 'C1': {'education': {'C3': {'company_type': {'A2': {'location': {'D6': {'major': {'F7': 3000, 'B7': 3000, 'A7': 3000, 'D7': 3000, 'E7': 3000, 'C7': 3000}}, 'B6': {'major': {'F7': 8000, 'B7': 3000, 'A7': 3000, 'D7': 5000, 'E7': 10000, 'C7': 3000}}, 'E6': {'major': {'D7': 5000, 'E7': 3000, 'B7': 3000, 'C7': 8000, 'A7': 3000}}, 'C6': {'major': {'D7': 5000, 'E7': 5000, 'B7': 3000, 'C7': 3000, 'A7': 3000}}, 'A6': {'major': {'F7': 8000, 'B7': 5000, 'A7': 3000, 'D7': 3000, 'E7': 10000, 'C7': 5000}}}}, 'B2': {'major': {'E7': 5000, 'B7': {'location': {'E6': 1000, 'C6': 5000}}, 'A7': {'location': {'D6': 3000, 'B6': 1000, 'E6': 3000, 'C6': 1000, 'A6': 3000}}}}}}, 'A3': {'location': {'D6': {'company_type': {'A2': {'major': {'F7': 3000, 'B7': 5000, 'A7': 3000, 'D7': 3000, 'E7': 3000, 'C7': 5000}}, 'D2': 3000, 'B2': {'major': {'E7': 10000, 'B7': 3000, 'C7': 3000, 'A7': 10000, 'F7': 3000}}}}, 'B6': {'company_type': {'C2': {'major': {'B7': 10000, 'A7': 5000}}, 'A2': {'major': {'F7': 5000, 'B7': 5000, 'A7': 3000, 'D7': 5000, 'E7': 3000, 'C7': 5000}}, 'D2': {'major': {'D7': 1000, 'B7': 3000}}, 'B2': {'major': {'D7': 10000, 'E7': 3000, 'B7': 5000, 'C7': 8000, 'A7': 3000}}}}, 'E6': {'major': {'F7': {'company_type': {'A2': 3000}}, 'B7': {'company_type': {'A2': 3000, 'B2': 3000}}, 'A7': {'company_type': {'A2': 3000, 'D2': 3000, 'B2': 10000}}, 'D7': {'company_type': {'A2': 8000}}, 'E7': {'company_type': {'A2': 8000, 'B2': 10000}}, 'C7': {'company_type': {'A2': 5000, 'B2': 5000}}}}, 'C6': {'company_type': {'A2': {'major': {'F7': 5000, 'B7': 3000, 'A7': 3000, 'D7': 3000, 'E7': 3000, 'C7': 5000}}, 'B2': {'major': {'D7': 3000, 'E7': 8000, 'B7': 10000, 'C7': 8000, 'A7': 3000}}}}, 'A6': {'major': {'F7': {'company_type': {'A2': 5000}}, 'B7': {'company_type': {'A2': 10000, 'B2': 5000}}, 'A7': {'company_type': {'A2': 5000, 'B2': 5000}}, 'D7': {'company_type': {'A2': 5000}}, 'E7': {'company_type': {'A2': 5000, 'B2': 10000}}, 'C7': {'company_type': {'A2': 5000, 'B2': 5000}}}}}}, 'D3': 10000, 'E3': {'location': {'D6': {'company_type': {'A2': {'major': {'D7': 8000, 'C7': 5000, 'A7': 8000}}, 'B2': 10000}}, 'B6': {'major': {'D7': {'company_type': {'A2': 5000}}, 'B7': 10000, 'C7': {'company_type': {'A2': 10000}}, 'A7': {'company_type': {'A2': 10000}}, 'F7': 10000}}, 'C6': {'major': {'D7': {'company_type': {'A2': 10000}}, 'B7': 10000, 'C7': 5000, 'A7': {'company_type': {'A2': 10000}}, 'F7': 10000}}, 'A6': {'major': {'F7': 10000, 'B7': {'company_type': {'A2': 10000, 'B2': 10000}}, 'A7': {'company_type': {'A2': 10000, 'B2': 10000}}, 'D7': {'company_type': {'A2': 10000, 'B2': 10000}}, 'E7': {'company_type': {'A2': 10000, 'B2': 10000}}, 'C7': {'company_type': {'A2': 10000}}}}}}, 'B3': {'location': {'D6': {'major': {'F7': {'company_type': {'A2': 5000, 'B2': 5000}}, 'B7': {'company_type': {'A2': 10000, 'B2': 10000}}, 'A7': {'company_type': {'A2': 3000, 'B2': 10000}}, 'D7': {'company_type': {'A2': 3000}}, 'E7': {'company_type': {'A2': 8000}}, 'C7': {'company_type': {'A2': 10000, 'B2': 5000}}}}, 'B6': {'company_type': {'C2': {'major': {'D7': 10000, 'C7': 10000}}, 'A2': {'major': {'F7': 5000, 'B7': 10000, 'A7': 10000, 'D7': 5000, 'E7': 5000, 'C7': 10000}}, 'D2': 5000, 'B2': {'major': {'E7': 10000, 'B7': 5000, 'C7': 10000, 'A7': 5000, 'F7': 3000}}}}, 'E6': {'company_type': {'C2': 5000, 'A2': {'major': {'F7': 5000, 'B7': 10000, 'A7': 5000, 'D7': 10000, 'E7': 5000, 'C7': 10000}}, 'B2': {'major': {'B7': 3000, 'C7': 10000, 'A7': 3000}}}}, 'C6': {'company_type': {'C2': 5000, 'A2': {'major': {'F7': 8000, 'B7': 5000, 'A7': 3000, 'D7': 10000, 'E7': 8000, 'C7': 10000}}, 'B2': {'major': {'E7': 5000, 'B7': 5000, 'C7': 3000, 'A7': 3000, 'F7': 10000}}}}, 'A6': {'company_type': {'C2': {'major': {'E7': 8000, 'B7': 10000, 'A7': 3000}}, 'A2': {'major': {'F7': 10000, 'B7': 10000, 'A7': 10000, 'D7': 10000, 'E7': 10000, 'C7': 10000}}, 'D2': 3000, 'B2': {'major': {'E7': 10000, 'B7': 10000, 'C7': 5000, 'A7': 10000, 'F7': 8000}}}}}}}}, 'E1': {'education': {'C3': {'major': {'D7': 5000, 'B7': {'company_type': {'A2': {'location': {'D6': 5000, 'B6': 8000, 'A6': 3000}}}}, 'C7': {'company_type': {'A2': {'location': {5000: 5000, 10000: 10000}}}}, 'A7': {'location': {'D6': 3000, 'B6': {'company_type': {'A2': 10000}}, 'A6': {'company_type': {'A2': 40000, 'B2': 10000}}}}}}, 'A3': {'company_type': {'A2': {'location': {'D6': {'major': {'E7': 10000, 'B7': 10000, 'C7': 10000, 'A7': 10000}}, 'B6': {'major': {'F7': 40000, 'B7': 10000, 'A7': 10000, 'D7': 40000, 'E7': 3000, 'C7': 10000}}, 'E6': {'major': {'B7': 10000, 'C7': 10000, 'A7': 10000}}, 'C6': {'major': {'D7': 10000, 'E7': 10000, 'B7': 10000, 'C7': 10000, 'A7': 10000}}, 'A6': {'major': {'D7': 10000, 'E7': 5000, 'B7': 10000, 'C7': 10000, 'A7': 10000}}}}, 'D2': 3000, 'B2': {'location': {'D6': {'major': {'C7': 10000, 'A7': 3000}}, 'B6': 3000, 'C6': 10000, 'A6': {'major': {'C7': 10000, 'A7': 5000}}}}}}, 'D3': {'company_type': {'A2': {'major': {'D7': 10000, 'B7': 40000, 'C7': 10000}}}}, 'E3': {'company_type': {'A2': {'location': {'D6': 40000, 'B6': {'major': {'E7': 10000, 'B7': 8000}}, 'A6': {'major': {'D7': 40000, 'B7': 10000, 'C7': 10000, 'A7': 10000}}}}}}, 'B3': {'location': {'D6': {'major': {'F7': 10000, 'B7': {'company_type': {'A2': 10000}}, 'A7': {'company_type': {'A2': 10000, 'B2': 10000}}, 'D7': {'company_type': {'A2': 40000}}, 'E7': 10000, 'C7': {'company_type': {'A2': 10000}}}}, 'B6': {'major': {'E7': {'company_type': {'A2': 8000, 'B2': 10000}}, 'B7': {'company_type': {'C2': 10000, 'A2': 10000, 'B2': 8000}}, 'C7': {'company_type': {'A2': 10000, 'B2': 40000}}, 'A7': {'company_type': {'C2': 10000, 'A2': 10000, 'B2': 10000}}, 'F7': 10000}}, 'E6': {'company_type': {'A2': {'major': {'D7': 10000, 'B7': 10000, 'C7': 10000, 'A7': 10000}}, 'B2': {'major': {'B7': 3000, 'A7': 5000}}}}, 'C6': {'major': {'F7': 10000, 'B7': {'company_type': {'A2': 10000}}, 'A7': {'company_type': {'A2': 10000, 'B2': 10000}}, 'D7': {'company_type': {'A2': 40000}}, 'E7': {'company_type': {'A2': 10000}}, 'C7': {'company_type': {'A2': 10000, 'B2': 10000}}}}, 'A6': {'company_type': {'A2': {'major': {'F7': 10000, 'B7': 10000, 'A7': 10000, 'D7': 10000, 'E7': 10000, 'C7': 10000}}, 'B2': {'major': {'B7': 10000, 'C7': 10000, 'A7': 10000}}}}}}}}, 'B1': {'education': {'C3': {'company_type': {'C2': {'major': {'D7': {'location': {'B6': 5000, 'C6': 1000}}, 'E7': 3000, 'B7': {'location': {'C6': 5000, 'A6': 10000}}, 'A7': {'location': {'B6': 3000, 'A6': 3000}}}}, 'A2': {'location': {'D6': {'major': {'F7': 3000, 'B7': 3000, 'A7': 3000, 'D7': 3000, 'E7': 3000, 'C7': 3000}}, 'B6': {'major': {'F7': 3000, 'B7': 3000, 'A7': 3000, 'D7': 3000, 'E7': 3000, 'C7': 3000}}, 'E6': {'major': {'F7': 8000, 'B7': 3000, 'A7': 3000, 'D7': 1000, 'E7': 3000, 'C7': 3000}}, 'C6': {'major': {'F7': 3000, 'B7': 3000, 'A7': 3000, 'D7': 3000, 'E7': 3000, 'C7': 3000}}, 'A6': {'major': {'F7': 3000, 'B7': 3000, 'A7': 3000, 'D7': 3000, 'E7': 3000, 'C7': 3000}}}}, 'D2': {'location': {'E6': 3000, 'C6': 3000, 'A6': 5000}}, 'B2': {'major': {'D7': {'location': {'D6': 1000, 'C6': 3000}}, 'E7': 10000, 'B7': {'location': {'B6': 5000, 'A6': 3000}}, 'C7': 8000, 'A7': {'location': {'B6': 3000, 'C6': 3000, 'A6': 1000}}}}}}, 'A3': {'location': {'D6': {'major': {'F7': {'company_type': {'A2': 3000, 'B2': 1000}}, 'B7': {'company_type': {'A2': 3000, 'B2': 3000}}, 'A7': {'company_type': {'C2': 3000, 'A2': 3000, 'B2': 3000}}, 'D7': {'company_type': {'A2': 3000, 'B2': 3000}}, 'E7': {'company_type': {'A2': 3000, 'B2': 5000}}, 'C7': {'company_type': {'A2': 3000, 'B2': 3000}}}}, 'B6': {'company_type': {'C2': {'major': {'A7': 5000}}, 'A2': {'major': {'F7': 3000, 'B7': 3000, 'A7': 3000, 'D7': 3000, 'E7': 3000, 'C7': 3000}}, 'D2': {'major': {'A7': 5000}}, 'B2': {'major': {'D7': 3000, 'E7': 3000, 'B7': 3000, 'C7': 3000, 'A7': 3000}}}}, 'E6': {'company_type': {'A2': {'major': {'F7': 1000, 'B7': 3000, 'A7': 3000, 'D7': 3000, 'E7': 3000, 'C7': 3000}}, 'B2': {'major': {'D7': 3000, 'E7': 8000, 'B7': 3000, 'A7': 1000, 'F7': 1000}}}}, 'C6': {'major': {'F7': {'company_type': {'A2': 3000}}, 'B7': {'company_type': {'A2': 3000, 'B2': 3000}}, 'A7': {'company_type': {'A2': 3000, 'D2': 3000, 'B2': 3000}}, 'D7': {'company_type': {'A2': 3000, 'B2': 3000}}, 'E7': {'company_type': {'C2': 1000, 'A2': 3000, 'B2': 1000}}, 'C7': {'company_type': {'A2': 3000, 'B2': 3000}}}}, 'A6': {'company_type': {'C2': {'major': {'E7': 3000, 'B7': 3000, 'A7': 5000}}, 'A2': {'major': {'F7': 3000, 'B7': 5000, 'A7': 3000, 'D7': 3000, 'E7': 5000, 'C7': 5000}}, 'D2': {'major': {'E7': 5000, 'B7': 5000, 'A7': 3000}}, 'B2': {'major': {'D7': 3000, 'E7': 8000, 'B7': 3000, 'C7': 5000, 'A7': 3000}}}}}}, 'D3': 10000, 'E3': {'major': {'F7': {'location': {'B6': {'company_type': {'A2': 10000}}, 'C6': {'company_type': {'C2': 5000, 'A2': 3000}}, 'A6': 8000}}, 'B7': {'location': {'D6': 8000, 'B6': {'company_type': {'A2': 10000}}, 'C6': {'company_type': {'C2': 10000, 'A2': 10000}}, 'A6': {'company_type': {'C2': 10000, 'A2': 10000, 'B2': 10000}}}}, 'A7': {'company_type': {'C2': 3000, 'A2': {'location': {'B6': 8000, 'E6': 3000, 'C6': 8000, 'A6': 8000}}, 'B2': 10000}}, 'D7': {'company_type': {'A2': {'location': {'B6': 5000, 'C6': 10000, 'A6': 5000}}}}, 'E7': {'company_type': {'A2': {'location': {'B6': 3000, 'C6': 8000, 'A6': 8000}}}}, 'C7': {'company_type': {'C2': 8000, 'A2': {'location': {'D6': 3000, 'B6': 3000, 'C6': 5000, 'A6': 10000}}, 'B2': 5000}}}}, 'B3': {'location': {'D6': {'company_type': {'C2': {'major': {'B7': 3000, 'A7': 8000}}, 'A2': {'major': {'F7': 3000, 'B7': 3000, 'A7': 3000, 'D7': 3000, 'E7': 3000, 'C7': 3000}}, 'B2': {'major': {'B7': 3000, 'C7': 8000, 'A7': 3000}}}}, 'B6': {'major': {'F7': {'company_type': {'C2': 5000, 'A2': 3000, 'B2': 5000}}, 'B7': {'company_type': {'C2': 8000, 'A2': 5000, 'B2': 5000}}, 'A7': {'company_type': {'C2': 3000, 'A2': 3000, 'B2': 3000}}, 'D7': {'company_type': {'A2': 5000, 'D2': 5000, 'B2': 3000}}, 'E7': {'company_type': {'C2': 5000, 'A2': 3000, 'D2': 10000, 'B2': 3000}}, 'C7': {'company_type': {'C2': 3000, 'A2': 3000, 'B2': 5000}}}}, 'E6': {'company_type': {'A2': {'major': {'F7': 3000, 'B7': 3000, 'A7': 3000, 'D7': 3000, 'E7': 3000, 'C7': 3000}}, 'B2': {'major': {'E7': 3000, 'B7': 8000, 'C7': 8000, 'A7': 5000, 'F7': 3000}}}}, 'C6': {'company_type': {'C2': {'major': {'B7': 5000}}, 'A2': {'major': {'F7': 3000, 'B7': 3000, 'A7': 3000, 'D7': 5000, 'E7': 3000, 'C7': 3000}}, 'D2': 3000, 'B2': {'major': {'F7': 5000, 'B7': 5000, 'A7': 5000, 'D7': 3000, 'E7': 5000, 'C7': 10000}}}}, 'A6': {'major': {'F7': {'company_type': {'A2': 10000, 'B2': 3000}}, 'B7': {'company_type': {'C2': 10000, 'A2': 10000, 'B2': 10000}}, 'A7': {'company_type': {'C2': 5000, 'A2': 5000, 'D2': 3000, 'B2': 5000}}, 'D7': {'company_type': {'C2': 5000, 'A2': 5000, 'B2': 5000}}, 'E7': {'company_type': {'C2': 3000, 'A2': 5000, 'D2': 1000, 'B2': 5000}}, 'C7': {'company_type': {'C2': 5000, 'A2': 5000, 'B2': 5000}}}}}}}}, 'D1': {'education': {'C3': {'company_type': {'C2': {'major': {'B7': {'location': {'D6': 8000, 'A6': 3000}}}}, 'A2': {'major': {'F7': 10000, 'B7': {'location': {'D6': 5000, 'B6': 5000, 'E6': 5000, 'C6': 5000, 'A6': 10000}}, 'A7': {'location': {'D6': 8000, 'B6': 3000, 'E6': 8000, 'C6': 5000, 'A6': 5000}}, 'D7': {'location': {'B6': 1000, 'C6': 10000, 'A6': 10000}}, 'E7': {'location': {'B6': 5000, 'A6': 10000}}, 'C7': {'location': {'D6': 10000, 'B6': 10000, 'E6': 5000, 'C6': 1000, 'A6': 5000}}}}, 'D2': 3000, 'B2': {'location': {'B6': {'major': {'E7': 5000, 'F7': 10000}}, 'A6': 3000}}}}, 'A3': {'company_type': {'C2': 10000, 'A2': {'location': {'D6': {'major': {'F7': 5000, 'B7': 5000, 'A7': 10000, 'D7': 3000, 'E7': 8000, 'C7': 10000}}, 'B6': {'major': {'F7': 5000, 'B7': 10000, 'A7': 10000, 'D7': 10000, 'E7': 10000, 'C7': 10000}}, 'E6': {'major': {'D7': 10000, 'B7': 10000, 'C7': 8000, 'A7': 10000, 'F7': 5000}}, 'C6': {'major': {'F7': 5000, 'B7': 10000, 'A7': 10000, 'D7': 10000, 'E7': 10000, 'C7': 10000}}, 'A6': {'major': {'F7': 8000, 'B7': 10000, 'A7': 10000, 'D7': 10000, 'E7': 10000, 'C7': 10000}}}}, 'D2': {'major': {'D7': 3000, 'A7': 1000}}, 'B2': {'major': {'E7': {'location': {'D6': 5000, 'B6': 5000, 'A6': 10000}}, 'B7': {'location': {'D6': 10000, 'B6': 3000, 'E6': 10000, 'C6': 3000, 'A6': 10000}}, 'C7': {'location': {'D6': 5000, 'B6': 10000, 'E6': 3000, 'C6': 10000, 'A6': 10000}}, 'A7': {'location': {'D6': 5000, 'B6': 5000, 'C6': 5000, 'A6': 5000}}, 'F7': {'location': {'D6': 5000, 'A6': 10000}}}}}}, 'D3': {'major': {'B7': 10000, 'C7': 10000, 'A7': 40000}}, 'E3': {'major': {'F7': 10000, 'B7': {'location': {'D6': 10000, 'B6': {'company_type': {'A2': 10000}}, 'C6': 10000, 'A6': {'company_type': {'A2': 10000, 'B2': 10000}}}}, 'A7': {'location': {'B6': 10000, 'C6': 40000, 'A6': {'company_type': {'C2': 10000, 'A2': 10000, 'B2': 10000}}}}, 'D7': {'company_type': {'A2': {'location': {'D6': 10000, 'B6': 10000, 'C6': 10000, 'A6': 10000}}}}, 'E7': {'company_type': {'A2': {'location': {'B6': 5000, 'C6': 5000, 'A6': 10000}}}}, 'C7': {'location': {'A6': {'company_type': {'A2': 10000, 'B2': 8000}}}}}}, 'B3': {'location': {'D6': {'major': {'F7': {'company_type': {'A2': 10000}}, 'B7': {'company_type': {'C2': 5000, 'A2': 10000, 'B2': 8000}}, 'A7': {'company_type': {'A2': 10000, 'B2': 10000}}, 'D7': {'company_type': {'A2': 10000}}, 'E7': {'company_type': {'A2': 10000}}, 'C7': {'company_type': {'A2': 10000, 'B2': 10000}}}}, 'B6': {'major': {'F7': {'company_type': {'A2': 10000}}, 'B7': {'company_type': {'A2': 10000, 'B2': 10000}}, 'A7': {'company_type': {'C2': 3000, 'A2': 10000, 'B2': 10000}}, 'D7': {'company_type': {'A2': 10000}}, 'E7': {'company_type': {'A2': 10000}}, 'C7': {'company_type': {'A2': 10000, 'B2': 10000}}}}, 'E6': {'major': {'F7': 8000, 'B7': {'company_type': {'A2': 10000, 'B2': 5000}}, 'A7': {'company_type': {'A2': 10000, 'B2': 10000}}, 'D7': {'company_type': {'A2': 3000}}, 'E7': {'company_type': {'A2': 10000}}, 'C7': {'company_type': {'A2': 10000, 'B2': 5000}}}}, 'C6': {'major': {'F7': 8000, 'B7': {'company_type': {'C2': 10000, 'A2': 10000, 'B2': 10000}}, 'A7': {'company_type': {'A2': 10000, 'B2': 10000}}, 'D7': {'company_type': {'A2': 10000, 'B2': 10000}}, 'E7': {'company_type': {'A2': 10000}}, 'C7': {'company_type': {'A2': 10000, 'B2': 8000}}}}, 'A6': {'company_type': {'C2': 10000, 'A2': {'major': {'F7': 10000, 'B7': 10000, 'A7': 10000, 'D7': 10000, 'E7': 10000, 'C7': 10000}}, 'B2': {'major': {'E7': 10000, 'B7': 10000, 'C7': 10000, 'A7': 10000}}}}}}}}}}\n"
     ]
    }
   ],
   "source": [
    "DT = createDecideTree(dataSet,attributes)\n",
    "print DT"
   ]
  },
  {
   "cell_type": "code",
   "execution_count": 144,
   "metadata": {},
   "outputs": [],
   "source": [
    "#使用训练的模型进行分类\n",
    "def classify(tree,feat,featValue):\n",
    "    firstFeat = list(tree.keys())[0]\n",
    "    secondDict = tree[firstFeat]\n",
    "    featIndex = feat.index(firstFeat)\n",
    "    key = featValue[featIndex]\n",
    "    if key in secondDict.keys():\n",
    "        if type(secondDict[key]).__name__ == 'dict':\n",
    "            classLabel = classify(secondDict[key],feat,featValue)\n",
    "        else:\n",
    "            classLabel = secondDict[key]\n",
    "    else:\n",
    "        classLabel = \"OH NO!\"\n",
    "    return classLabel"
   ]
  },
  {
   "cell_type": "code",
   "execution_count": 172,
   "metadata": {},
   "outputs": [],
   "source": [
    "#计算测试集准确率\n",
    "feat = ['experience','education','major','location','company_type']\n",
    "def precisionCal(tree,feat,test_data):\n",
    "    tests = [dataVec[:-1] for dataVec in test_data]\n",
    "    true = 0\n",
    "    sum = len(tests)\n",
    "    for i in range(len(tests)):\n",
    "        result = classify(tree,feat,tests[i])\n",
    "        if result == \"OH NO!\":\n",
    "            sum = sum - 1\n",
    "        else:\n",
    "            #print result,\" versus \",test_data[i][5]\n",
    "            if result == test_data[i][-1]:\n",
    "                true = true + 1\n",
    "    return float(true)/float(sum)"
   ]
  },
  {
   "cell_type": "code",
   "execution_count": 173,
   "metadata": {},
   "outputs": [
    {
     "name": "stdout",
     "output_type": "stream",
     "text": [
      "0.518890675241\n"
     ]
    }
   ],
   "source": [
    "print precisionCal(DT,feat,test_data)"
   ]
  },
  {
   "cell_type": "code",
   "execution_count": 174,
   "metadata": {},
   "outputs": [],
   "source": [
    "#C4.5剪枝\n",
    "import copy\n",
    "\n",
    "def isTree(obj):#判断当前节点是否是叶节点\n",
    "    return (type(obj).__name__ == 'dict')\n",
    "\n",
    "def prune(tree, testData, featList):\n",
    "    newTree = copy.deepcopy(tree)\n",
    "    firstFeat = list(tree.keys())[0]\n",
    "    secondDict = tree[firstFeat]\n",
    "    #print firstFeat\n",
    "    for key in secondDict.keys():\n",
    "        #print key\n",
    "        if isTree(secondDict[key]):\n",
    "            #print \"is tree\"\n",
    "            #print secondDict[key]\n",
    "            featNum = featList.index(firstFeat)\n",
    "            subSample = splitDataSet(testData, featNum, key)\n",
    "            subclassList = [dataVec[-1] for dataVec in subSample]\n",
    "            if len(subclassList)!=0:\n",
    "                #print \"majority\", majorityCnt(subclassList)\n",
    "                if len(subclassList) == subclassList.count(subclassList[0]):\n",
    "                    tree[firstFeat][key] = majorityCnt(subclassList)\n",
    "                else:\n",
    "                    newTree[firstFeat][key] = majorityCnt(subclassList)\n",
    "                    precison_old = precisionCal(tree, featList, testData)\n",
    "                    precision_new = precisionCal(newTree, featList, testData)\n",
    "                    #print precison_old, \"versus\", precision_new\n",
    "                    if precision_new > precison_old:\n",
    "                        #print \"new tree\"\n",
    "                        tree[firstFeat][key] = majorityCnt(subclassList)\n",
    "                    else:\n",
    "                        #print \"go on\"\n",
    "                        newfeatList = featList[:featNum] + featList[featNum + 1:]\n",
    "                        tree[firstFeat][key] = prune(secondDict[key], subSample, newfeatList)\n",
    "            else:\n",
    "                continue\n",
    "    return tree  "
   ]
  },
  {
   "cell_type": "code",
   "execution_count": 175,
   "metadata": {},
   "outputs": [],
   "source": [
    "import copy\n",
    "tree = copy.deepcopy(DT)\n",
    "atrributes = ['experience','education','major','location','company_type']\n",
    "newDT = prune(tree, test_data, atrributes)"
   ]
  },
  {
   "cell_type": "code",
   "execution_count": 149,
   "metadata": {},
   "outputs": [
    {
     "data": {
      "text/plain": [
       "0.5334535256410257"
      ]
     },
     "execution_count": 149,
     "metadata": {},
     "output_type": "execute_result"
    }
   ],
   "source": [
    "atrributes = ['experience','education','major','location','company_type']\n",
    "precisionCal(newDT,atrributes,test_data)"
   ]
  },
  {
   "cell_type": "markdown",
   "metadata": {},
   "source": [
    "# CART"
   ]
  },
  {
   "cell_type": "code",
   "execution_count": 150,
   "metadata": {},
   "outputs": [],
   "source": [
    "#划分样本集\n",
    "def binarySplitDataSet(dataset,feature,value):\n",
    "    matLeft = dataset[np.nonzero(dataset[:,feature] <= value)[0],:]\n",
    "    matRight = dataset[np.nonzero(dataset[:,feature] > value)[0],:]\n",
    "    return matLeft,matRight"
   ]
  },
  {
   "cell_type": "code",
   "execution_count": 151,
   "metadata": {},
   "outputs": [],
   "source": [
    "def regressErr(dataset):\n",
    "    return np.var(dataset[:,-1]) * np.shape(dataset)[0]\n",
    "\n",
    "def chooseBestSplit(dataset, threshold=(1, 200)):\n",
    "    thresholdErr = threshold[0]\n",
    "    thresholdSamples = threshold[1]\n",
    "    if len(set(dataset[:,-1].tolist())) == 1:\n",
    "        return None,np.mean(dataset[:,-1])\n",
    "    m,n = np.shape(dataset)\n",
    "    Err = regressErr(dataset)\n",
    "    bestErr = np.inf \n",
    "    bestFeatureIndex = 0\n",
    "    bestFeatureValue = 0\n",
    "    for featureindex in range(n-1):#最优划分特征选择\n",
    "        #print featureindex\n",
    "        for featurevalue in set(dataset[:,featureindex]):#最优划分特征值选择\n",
    "            #print featurevalue\n",
    "            matLeft,matRight = binarySplitDataSet(dataset,featureindex,featurevalue)\n",
    "            if (np.shape(matLeft)[0] < thresholdSamples) or (np.shape(matRight)[0] < thresholdSamples):\n",
    "                continue\n",
    "            temErr = regressErr(matLeft) + regressErr(matRight)\n",
    "            #print \"temErr\",temErr\n",
    "            if temErr < bestErr:\n",
    "                bestErr = temErr\n",
    "                bestFeatureIndex = featureindex\n",
    "                bestFeatureValue = featurevalue\n",
    "    #检验在所选出的最优划分特征及其取值下，误差平方和与未划分时的差是否小于阈值，若是，则不适合划分\n",
    "    if (Err - bestErr) < thresholdErr:\n",
    "        return None,np.mean(dataset[:,-1])\n",
    "    matLeft,matRight = binarySplitDataSet(dataset,bestFeatureIndex,bestFeatureValue)\n",
    "    #检验在所选出的最优划分特征及其取值下，划分的左右数据集的样本数是否小于阈值，若是，则不适合划分\n",
    "    if (np.shape(matLeft)[0] < thresholdSamples) or (np.shape(matRight)[0] < thresholdSamples):\n",
    "        return None,np.mean(dataset[:,-1])\n",
    "    return bestFeatureIndex,bestFeatureValue"
   ]
  },
  {
   "cell_type": "code",
   "execution_count": 152,
   "metadata": {},
   "outputs": [],
   "source": [
    "def createCARTtree(dataset,threshold=(1,200)):\n",
    "    feature,value = chooseBestSplit(dataset,threshold)\n",
    "    #当不满足阈值或某一子数据集下输出全相等时，返回叶节点\n",
    "    if feature == None: return value\n",
    "    returnTree = {}\n",
    "    returnTree['bestSplitFeature'] = feature\n",
    "    returnTree['bestSplitFeatValue'] = value\n",
    "    leftSet,rightSet = binarySplitDataSet(dataset,feature,value)\n",
    "    returnTree['left'] = createCARTtree(leftSet,threshold)\n",
    "    returnTree['right'] = createCARTtree(rightSet,threshold)\n",
    "    return returnTree"
   ]
  },
  {
   "cell_type": "code",
   "execution_count": 153,
   "metadata": {},
   "outputs": [
    {
     "name": "stdout",
     "output_type": "stream",
     "text": [
      "{'bestSplitFeature': 0, 'bestSplitFeatValue': 'B1', 'right': {'bestSplitFeature': 0, 'bestSplitFeatValue': 'C1', 'right': {'bestSplitFeature': 3, 'bestSplitFeatValue': 'A6', 'right': {'bestSplitFeature': 0, 'bestSplitFeatValue': 'D1', 'right': 11546.703296703297, 'left': {'bestSplitFeature': 1, 'bestSplitFeatValue': 'A3', 'right': {'bestSplitFeature': 3, 'bestSplitFeatValue': 'C6', 'right': 8593.272171253822, 'left': {'bestSplitFeature': 3, 'bestSplitFeatValue': 'B6', 'right': 9386.533665835412, 'left': {'bestSplitFeature': 2, 'bestSplitFeatValue': 'A7', 'right': 9289.473684210527, 'left': 9099.514563106795}}}, 'left': {'bestSplitFeature': 2, 'bestSplitFeatValue': 'A7', 'right': 7508.87573964497, 'left': 7426.751592356688}}}, 'left': {'bestSplitFeature': 1, 'bestSplitFeatValue': 'A3', 'right': {'bestSplitFeature': 2, 'bestSplitFeatValue': 'A7', 'right': {'bestSplitFeature': 2, 'bestSplitFeatValue': 'B7', 'right': 11502.732240437159, 'left': 11117.936117936119}, 'left': 13829.683698296836}, 'left': 9000.0}}, 'left': {'bestSplitFeature': 3, 'bestSplitFeatValue': 'A6', 'right': {'bestSplitFeature': 1, 'bestSplitFeatValue': 'A3', 'right': {'bestSplitFeature': 1, 'bestSplitFeatValue': 'B3', 'right': 5013.368983957219, 'left': {'bestSplitFeature': 3, 'bestSplitFeatValue': 'B6', 'right': {'bestSplitFeature': 3, 'bestSplitFeatValue': 'C6', 'right': 6487.421383647798, 'left': 6237.410071942446}, 'left': {'bestSplitFeature': 2, 'bestSplitFeatValue': 'A7', 'right': 7199.579831932773, 'left': 6808.463251670379}}}, 'left': {'bestSplitFeature': 2, 'bestSplitFeatValue': 'A7', 'right': {'bestSplitFeature': 2, 'bestSplitFeatValue': 'C7', 'right': 5680.216802168022, 'left': {'bestSplitFeature': 3, 'bestSplitFeatValue': 'B6', 'right': 5625.0, 'left': 5546.3917525773195}}, 'left': {'bestSplitFeature': 3, 'bestSplitFeatValue': 'B6', 'right': 4942.105263157895, 'left': 5248.076923076923}}}, 'left': {'bestSplitFeature': 1, 'bestSplitFeatValue': 'A3', 'right': {'bestSplitFeature': 2, 'bestSplitFeatValue': 'B7', 'right': 8258.536585365853, 'left': {'bestSplitFeature': 2, 'bestSplitFeatValue': 'A7', 'right': 9043.844856661046, 'left': 8448.520710059172}}, 'left': {'bestSplitFeature': 2, 'bestSplitFeatValue': 'A7', 'right': {'bestSplitFeature': 2, 'bestSplitFeatValue': 'B7', 'right': 6620.12987012987, 'left': 7310.0}, 'left': 6429.921259842519}}}}, 'left': {'bestSplitFeature': 3, 'bestSplitFeatValue': 'A6', 'right': {'bestSplitFeature': 1, 'bestSplitFeatValue': 'A3', 'right': {'bestSplitFeature': 1, 'bestSplitFeatValue': 'B3', 'right': {'bestSplitFeature': 0, 'bestSplitFeatValue': 'A1', 'right': {'bestSplitFeature': 2, 'bestSplitFeatValue': 'B7', 'right': 4076.923076923077, 'left': {'bestSplitFeature': 3, 'bestSplitFeatValue': 'B6', 'right': 3476.0705289672546, 'left': 3716.89497716895}}, 'left': {'bestSplitFeature': 2, 'bestSplitFeatValue': 'A7', 'right': 3135.6589147286822, 'left': {'bestSplitFeature': 3, 'bestSplitFeatValue': 'B6', 'right': 3980.6451612903224, 'left': 3608.1504702194356}}}, 'left': {'bestSplitFeature': 0, 'bestSplitFeatValue': 'A1', 'right': {'bestSplitFeature': 2, 'bestSplitFeatValue': 'A7', 'right': {'bestSplitFeature': 2, 'bestSplitFeatValue': 'C7', 'right': 4578.4114052953155, 'left': {'bestSplitFeature': 3, 'bestSplitFeatValue': 'B6', 'right': 5099.009900990099, 'left': 5597.964376590331}}, 'left': {'bestSplitFeature': 3, 'bestSplitFeatValue': 'B6', 'right': 4088.095238095238, 'left': 4325.367647058823}}, 'left': {'bestSplitFeature': 2, 'bestSplitFeatValue': 'B7', 'right': 3347.417840375587, 'left': {'bestSplitFeature': 3, 'bestSplitFeatValue': 'B6', 'right': 3912.2340425531916, 'left': 4025.839793281654}}}}, 'left': {'bestSplitFeature': 0, 'bestSplitFeatValue': 'A1', 'right': {'bestSplitFeature': 2, 'bestSplitFeatValue': 'A7', 'right': {'bestSplitFeature': 2, 'bestSplitFeatValue': 'C7', 'right': {'bestSplitFeature': 3, 'bestSplitFeatValue': 'B6', 'right': 3437.037037037037, 'left': 3578.2312925170068}, 'left': {'bestSplitFeature': 3, 'bestSplitFeatValue': 'B6', 'right': 3706.997084548105, 'left': 4190.962099125364}}, 'left': {'bestSplitFeature': 3, 'bestSplitFeatValue': 'B6', 'right': {'bestSplitFeature': 3, 'bestSplitFeatValue': 'C6', 'right': 3360.4240282685514, 'left': 3420.256111757858}, 'left': 3588.9407061958696}}, 'left': {'bestSplitFeature': 3, 'bestSplitFeatValue': 'B6', 'right': {'bestSplitFeature': 2, 'bestSplitFeatValue': 'C7', 'right': 2926.9841269841268, 'left': {'bestSplitFeature': 2, 'bestSplitFeatValue': 'A7', 'right': 3068.281938325991, 'left': {'bestSplitFeature': 3, 'bestSplitFeatValue': 'C6', 'right': 3122.5806451612902, 'left': 3094.6236559139784}}}, 'left': {'bestSplitFeature': 2, 'bestSplitFeatValue': 'A7', 'right': {'bestSplitFeature': 2, 'bestSplitFeatValue': 'C7', 'right': 3114.4578313253014, 'left': 3220.0}, 'left': 3328.159645232816}}}}, 'left': {'bestSplitFeature': 1, 'bestSplitFeatValue': 'A3', 'right': {'bestSplitFeature': 1, 'bestSplitFeatValue': 'B3', 'right': {'bestSplitFeature': 2, 'bestSplitFeatValue': 'A7', 'right': {'bestSplitFeature': 0, 'bestSplitFeatValue': 'A1', 'right': 4585.751978891821, 'left': 4339.74358974359}, 'left': {'bestSplitFeature': 0, 'bestSplitFeatValue': 'A1', 'right': 4508.474576271186, 'left': 5022.058823529412}}, 'left': {'bestSplitFeature': 0, 'bestSplitFeatValue': 'A1', 'right': {'bestSplitFeature': 2, 'bestSplitFeatValue': 'B7', 'right': 5858.851674641149, 'left': {'bestSplitFeature': 2, 'bestSplitFeatValue': 'A7', 'right': 7442.708333333333, 'left': 6144.300144300144}}, 'left': {'bestSplitFeature': 2, 'bestSplitFeatValue': 'A7', 'right': 5085.995085995086, 'left': 4757.76397515528}}}, 'left': {'bestSplitFeature': 0, 'bestSplitFeatValue': 'A1', 'right': {'bestSplitFeature': 2, 'bestSplitFeatValue': 'A7', 'right': {'bestSplitFeature': 2, 'bestSplitFeatValue': 'B7', 'right': 4571.593533487298, 'left': 5172.413793103448}, 'left': 4532.02846975089}, 'left': {'bestSplitFeature': 2, 'bestSplitFeatValue': 'A7', 'right': 3909.531502423263, 'left': 4412.71676300578}}}}}\n"
     ]
    }
   ],
   "source": [
    "cart_DT = createCARTtree(train_data,threshold=(1,300))\n",
    "print cart_DT"
   ]
  },
  {
   "cell_type": "code",
   "execution_count": 154,
   "metadata": {},
   "outputs": [],
   "source": [
    "#使用模型进行预测\n",
    "def isTree(obj):#判断当前节点是否是叶节点\n",
    "    return type(obj).__name__ == 'dict'\n",
    "\n",
    "def treeForeCast(tree, inputData):\n",
    "    if not isTree(tree): return float(tree)\n",
    "    if inputData[tree['bestSplitFeature']] <= tree['bestSplitFeatValue']:\n",
    "        if isTree(tree['left']):\n",
    "            return treeForeCast(tree['left'],inputData)\n",
    "        else:\n",
    "            return float(tree['left'])\n",
    "    else:\n",
    "        if isTree(tree['right']):\n",
    "            return treeForeCast(tree['right'],inputData)\n",
    "        else:\n",
    "            return float(tree['right'])"
   ]
  },
  {
   "cell_type": "code",
   "execution_count": 182,
   "metadata": {},
   "outputs": [],
   "source": [
    "#计算测试集准确率\n",
    "def tranverse(data):\n",
    "    if 1000<=data<3000:\n",
    "        data = 1000\n",
    "    if 3000<=data<5000:\n",
    "        data = 3000\n",
    "    if 5000<=data<8000:\n",
    "        data = 5000\n",
    "    if 8000<=data<10000:\n",
    "        data = 8000\n",
    "    if 10000<=data<40000:\n",
    "        data = 10000\n",
    "    if data>=40000:\n",
    "        data = 40000\n",
    "    return data\n",
    "\n",
    "def precisionCal(tree,test_data):\n",
    "    tests = [dataVec[:-1] for dataVec in test_data]\n",
    "    true = 0\n",
    "    sum = len(tests)\n",
    "    for i in range(len(tests)):\n",
    "        result = treeForeCast(tree, tests[i])\n",
    "        #print result,\" versus \",test_data[i][-1]\n",
    "        if abs(result - test_data[i][-1]) <= 2000:\n",
    "            true = true + 1\n",
    "    return float(true)/float(sum)"
   ]
  },
  {
   "cell_type": "code",
   "execution_count": 183,
   "metadata": {},
   "outputs": [
    {
     "data": {
      "text/plain": [
       "0.6199239847969594"
      ]
     },
     "execution_count": 183,
     "metadata": {},
     "output_type": "execute_result"
    }
   ],
   "source": [
    "precisionCal(cart_DT,test_data)"
   ]
  },
  {
   "cell_type": "code",
   "execution_count": 184,
   "metadata": {},
   "outputs": [],
   "source": [
    "#CART剪枝\n",
    "def getMean(tree):\n",
    "    if isTree(tree['left']): tree['left'] = getMean(tree['left'])\n",
    "    if isTree(tree['right']): tree['right'] = getMean(tree['right'])\n",
    "    return (tree['left'] + tree['right'])/2.0\n",
    "\n",
    "def cart_prune(tree, testData):\n",
    "    if np.shape(testData)[0] == 0: return getMean(tree)#存在测试集中没有训练集中数据的情况\n",
    "    if isTree(tree['left']) or isTree(tree['right']):\n",
    "        leftTestData, rightTestData = binarySplitDataSet(testData,tree['bestSplitFeature'],tree['bestSplitFeatValue'])\n",
    "    #递归调用prune函数对左右子树,注意与左右子树对应的左右子测试数据集\n",
    "    if isTree(tree['left']): tree['left'] = cart_prune(tree['left'],leftTestData)\n",
    "    if isTree(tree['right']): tree['right'] = cart_prune(tree['right'],rightTestData)\n",
    "    #当递归搜索到左右子树均为叶节点时，计算测试数据集的误差平方和\n",
    "    if not isTree(tree['left']) and not isTree(tree['right']):\n",
    "        leftTestData, rightTestData = binarySplitDataSet(testData,tree['bestSplitFeature'],tree['bestSplitFeatValue'])\n",
    "        errorNOmerge = sum(np.power(leftTestData[:,-1] - tree['left'],2)) +sum(np.power(rightTestData[:,-1] - tree['right'],2))\n",
    "        errorMerge = sum(np.power(testData[:,-1] - getMean(tree),2))\n",
    "        if errorMerge < errorNOmerge:\n",
    "            return getMean(tree)\n",
    "        else: return tree\n",
    "    else: return tree"
   ]
  },
  {
   "cell_type": "code",
   "execution_count": 185,
   "metadata": {},
   "outputs": [
    {
     "data": {
      "text/plain": [
       "0.6263252650530106"
      ]
     },
     "execution_count": 185,
     "metadata": {},
     "output_type": "execute_result"
    }
   ],
   "source": [
    "#计算剪枝后准确率\n",
    "import copy\n",
    "\n",
    "cart_tree = copy.deepcopy(cart_DT)\n",
    "cart_tree = cart_prune(cart_tree, test_data)\n",
    "precisionCal(cart_tree,test_data)"
   ]
  },
  {
   "cell_type": "markdown",
   "metadata": {},
   "source": [
    "# Bagging"
   ]
  },
  {
   "cell_type": "code",
   "execution_count": 176,
   "metadata": {},
   "outputs": [],
   "source": [
    "#生成C4.5随机森林\n",
    "Forest = []\n",
    "\n",
    "def createSample():\n",
    "    index = np.random.randint(35000, size=30000)\n",
    "    train_sample = train_data[index,:]\n",
    "    atrributes = ['experience','education','major','location','company_type']\n",
    "    return train_sample, atrributes\n",
    "\n",
    "def createForest():\n",
    "    for i in range(7):\n",
    "        print \"creating tree\",i,\"...\"\n",
    "        train_sample, attributes = createSample()\n",
    "        DT_sample = createDecideTree(train_sample,attributes)\n",
    "        atrributes = ['experience','education','major','location','company_type']\n",
    "        DT_sample = prune(DT_sample, train_sample, atrributes)\n",
    "        Forest.append(DT_sample)  "
   ]
  },
  {
   "cell_type": "code",
   "execution_count": 177,
   "metadata": {},
   "outputs": [
    {
     "name": "stdout",
     "output_type": "stream",
     "text": [
      "creating tree 0 ...\n",
      "creating tree 1 ...\n",
      "creating tree 2 ...\n",
      "creating tree 3 ...\n",
      "creating tree 4 ...\n",
      "creating tree 5 ...\n",
      "creating tree 6 ...\n"
     ]
    }
   ],
   "source": [
    "createForest()"
   ]
  },
  {
   "cell_type": "code",
   "execution_count": 178,
   "metadata": {},
   "outputs": [],
   "source": [
    "def tranverse(data):\n",
    "    if 1000<=data<3000:\n",
    "        data = 1000\n",
    "    if 3000<=data<5000:\n",
    "        data = 3000\n",
    "    if 5000<=data<8000:\n",
    "        data = 5000\n",
    "    if 8000<=data<10000:\n",
    "        data = 8000\n",
    "    if 10000<=data<40000:\n",
    "        data = 10000\n",
    "    if data>=40000:\n",
    "        data = 40000\n",
    "    return data\n",
    "\n",
    "def precisionForest(Forest,feat,test_data):\n",
    "    tests = [dataVec[:-1] for dataVec in test_data]\n",
    "    true = 0\n",
    "    sum = len(tests)\n",
    "    for i in range(len(tests)):\n",
    "        results = []\n",
    "        for j in range(len(Forest)):\n",
    "            result = classify(Forest[j],feat,tests[i])\n",
    "            if result != \"OH NO!\":\n",
    "                results.append(result)\n",
    "        #print results\n",
    "        if len(results)>0:\n",
    "            forestResult = majorityCnt(results)\n",
    "            #print forestResult,\"versus\",test_data[i][-1]\n",
    "            if forestResult == test_data[i][-1]:\n",
    "                true = true + 1\n",
    "        else:\n",
    "            sum = sum - 1\n",
    "    return float(true)/float(sum)\n",
    "    "
   ]
  },
  {
   "cell_type": "code",
   "execution_count": 179,
   "metadata": {},
   "outputs": [
    {
     "data": {
      "text/plain": [
       "0.5145319703347364"
      ]
     },
     "execution_count": 179,
     "metadata": {},
     "output_type": "execute_result"
    }
   ],
   "source": [
    "attributes = ['experience','education','major','location','company_type']\n",
    "precisionForest(Forest,attributes,test_data)"
   ]
  },
  {
   "cell_type": "code",
   "execution_count": 186,
   "metadata": {},
   "outputs": [],
   "source": [
    "cart_Forest = []\n",
    "\n",
    "def createSample():\n",
    "    index = np.random.randint(35000, size=30000)\n",
    "    train_sample = train_data[index,:]\n",
    "    atrributes = ['experience','education','major','location','company_type']\n",
    "    return train_sample, atrributes\n",
    "\n",
    "def createCARTForest():\n",
    "    for i in range(7):\n",
    "        print \"creating tree\",i,\"...\"\n",
    "        train_sample, attributes = createSample()\n",
    "        DT_sample = createCARTtree(train_sample,threshold=(1,250))\n",
    "        atrributes = ['experience','education','major','location','company_type']\n",
    "        DT_sample = cart_prune(DT_sample, train_sample)\n",
    "        cart_Forest.append(DT_sample)  "
   ]
  },
  {
   "cell_type": "code",
   "execution_count": 187,
   "metadata": {},
   "outputs": [
    {
     "name": "stdout",
     "output_type": "stream",
     "text": [
      "creating tree 0 ...\n",
      "creating tree 1 ...\n",
      "creating tree 2 ...\n",
      "creating tree 3 ...\n",
      "creating tree 4 ...\n",
      "creating tree 5 ...\n",
      "creating tree 6 ...\n"
     ]
    }
   ],
   "source": [
    "createCARTForest()"
   ]
  },
  {
   "cell_type": "code",
   "execution_count": 188,
   "metadata": {},
   "outputs": [],
   "source": [
    "def precisionCARTForest(Forest,feat,test_data):\n",
    "    tests = [dataVec[:-1] for dataVec in test_data]\n",
    "    true = 0\n",
    "    sum = len(tests)\n",
    "    for i in range(len(tests)):\n",
    "        results = []\n",
    "        for j in range(len(Forest)):\n",
    "            result = treeForeCast(cart_Forest[j], tests[i])\n",
    "            results.append(result)\n",
    "        #print results\n",
    "        if len(results)>0:\n",
    "            forestResult = np.mean(results)\n",
    "            #print forestResult,\"versus\",test_data[i][-1]\n",
    "            if abs(forestResult - test_data[i][-1]) <= 2500:\n",
    "                true = true + 1\n",
    "        else:\n",
    "            sum = sum - 1\n",
    "    return float(true)/float(sum)"
   ]
  },
  {
   "cell_type": "code",
   "execution_count": 189,
   "metadata": {},
   "outputs": [
    {
     "data": {
      "text/plain": [
       "0.7181436287257451"
      ]
     },
     "execution_count": 189,
     "metadata": {},
     "output_type": "execute_result"
    }
   ],
   "source": [
    "attributes = ['experience','education','major','location','company_type']\n",
    "precisionCARTForest(cart_Forest,attributes,test_data)"
   ]
  },
  {
   "cell_type": "code",
   "execution_count": null,
   "metadata": {},
   "outputs": [],
   "source": []
  },
  {
   "cell_type": "code",
   "execution_count": null,
   "metadata": {},
   "outputs": [],
   "source": []
  }
 ],
 "metadata": {
  "kernelspec": {
   "display_name": "Python 2",
   "language": "python",
   "name": "python2"
  },
  "language_info": {
   "codemirror_mode": {
    "name": "ipython",
    "version": 2
   },
   "file_extension": ".py",
   "mimetype": "text/x-python",
   "name": "python",
   "nbconvert_exporter": "python",
   "pygments_lexer": "ipython2",
   "version": "2.7.15"
  }
 },
 "nbformat": 4,
 "nbformat_minor": 2
}
